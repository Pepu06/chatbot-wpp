{
 "cells": [
  {
   "cell_type": "code",
   "execution_count": 22,
   "metadata": {},
   "outputs": [],
   "source": [
    "import json\n",
    "from dotenv import load_dotenv\n",
    "import os\n",
    "import requests\n",
    "import aiohttp\n",
    "import asyncio\n",
    "\n",
    "# --------------------------------------------------------------\n",
    "# Load environment variables\n",
    "# --------------------------------------------------------------\n",
    "\n",
    "load_dotenv()\n",
    "ACCESS_TOKEN = 'EAAN3F5PZBnXIBOxNcsUZBLNJNDXEQSlennPhQIjHulQMLaPzpZCNIe5Cj8PJZAZBtjTZAASIkfPNottcERc8rabkxdutznzMBq24xVZAFXZCsymMj0rhL7oHsWcY960ZCKCk95FtCZBPsqiSZBjy61Wrpm76j9qZC5tGVGZB5pig4OpsNKaF8ftRoIjBWEVmwr1XMHOoaeE7ynCrSM5cUlRHqEzngZC44ZCldy3uprhYZAwZD'\n",
    "RECIPIENT_WAID = '541140962011'\n",
    "PHONE_NUMBER_ID = '472273505962341'\n",
    "VERSION = 'v20.0'\n",
    "\n",
    "APP_ID = '975368081022322'\n",
    "APP_SECRET = 'f778d98308586b573c76e6cd1f25ad2c'"
   ]
  },
  {
   "cell_type": "code",
   "execution_count": 24,
   "metadata": {},
   "outputs": [],
   "source": [
    "def send_whatsapp_message():\n",
    "    url = f\"https://graph.facebook.com/{VERSION}/{PHONE_NUMBER_ID}/messages\"\n",
    "    headers = {\n",
    "        \"Authorization\": \"Bearer \" + ACCESS_TOKEN,\n",
    "        \"Content-Type\": \"application/json\",\n",
    "    }\n",
    "    data = {\n",
    "        \"messaging_product\": \"whatsapp\",\n",
    "        \"to\": RECIPIENT_WAID,\n",
    "        \"type\": \"template\",\n",
    "        \"template\": {\"name\": \"hello_world\", \"language\": {\"code\": \"en_US\"}},\n",
    "    }\n",
    "    response = requests.post(url, headers=headers, json=data)\n",
    "    return response\n"
   ]
  },
  {
   "cell_type": "code",
   "execution_count": 25,
   "metadata": {},
   "outputs": [
    {
     "name": "stdout",
     "output_type": "stream",
     "text": [
      "200\n",
      "{'messaging_product': 'whatsapp', 'contacts': [{'input': '541140962011', 'wa_id': '5491140962011'}], 'messages': [{'id': 'wamid.HBgNNTQ5MTE0MDk2MjAxMRUCABEYEkQwQkE1NTY5QTg2MjkxOEI1MAA=', 'message_status': 'accepted'}]}\n"
     ]
    }
   ],
   "source": [
    "\n",
    "# Call the function\n",
    "response = send_whatsapp_message()\n",
    "print(response.status_code)\n",
    "print(response.json())"
   ]
  },
  {
   "cell_type": "code",
   "execution_count": 26,
   "metadata": {},
   "outputs": [],
   "source": [
    "def get_text_message_input(recipient, text):\n",
    "    return json.dumps(\n",
    "        {\n",
    "            \"messaging_product\": \"whatsapp\",\n",
    "            \"recipient_type\": \"individual\",\n",
    "            \"to\": recipient,\n",
    "            \"type\": \"text\",\n",
    "            \"text\": {\"preview_url\": False, \"body\": text},\n",
    "        }\n",
    "    )"
   ]
  },
  {
   "cell_type": "code",
   "execution_count": 27,
   "metadata": {},
   "outputs": [
    {
     "name": "stdout",
     "output_type": "stream",
     "text": [
      "Status: 200\n",
      "Content-type: application/json; charset=UTF-8\n",
      "Body: {\"messaging_product\":\"whatsapp\",\"contacts\":[{\"input\":\"541140962011\",\"wa_id\":\"5491140962011\"}],\"messages\":[{\"id\":\"wamid.HBgNNTQ5MTE0MDk2MjAxMRUCABEYEkZCRjU0QUJFQTU4NEZGMUUyOQA=\"}]}\n"
     ]
    }
   ],
   "source": [
    "def send_message(data):\n",
    "    headers = {\n",
    "        \"Content-type\": \"application/json\",\n",
    "        \"Authorization\": f\"Bearer EAAN3F5PZBnXIBOxNcsUZBLNJNDXEQSlennPhQIjHulQMLaPzpZCNIe5Cj8PJZAZBtjTZAASIkfPNottcERc8rabkxdutznzMBq24xVZAFXZCsymMj0rhL7oHsWcY960ZCKCk95FtCZBPsqiSZBjy61Wrpm76j9qZC5tGVGZB5pig4OpsNKaF8ftRoIjBWEVmwr1XMHOoaeE7ynCrSM5cUlRHqEzngZC44ZCldy3uprhYZAwZD\",\n",
    "    }\n",
    "\n",
    "    url = f\"https://graph.facebook.com/{VERSION}/{PHONE_NUMBER_ID}/messages\"\n",
    "\n",
    "    response = requests.post(url, data=data, headers=headers)\n",
    "    if response.status_code == 200:\n",
    "        print(\"Status:\", response.status_code)\n",
    "        print(\"Content-type:\", response.headers[\"content-type\"])\n",
    "        print(\"Body:\", response.text)\n",
    "        return response\n",
    "    else:\n",
    "        print(response.status_code)\n",
    "        print(response.text)\n",
    "        return response\n",
    "\n",
    "\n",
    "data = get_text_message_input(\n",
    "    recipient=RECIPIENT_WAID, text=\"Hello, this is a test message.\"\n",
    ")\n",
    "\n",
    "response = send_message(data)"
   ]
  },
  {
   "cell_type": "code",
   "execution_count": null,
   "metadata": {},
   "outputs": [],
   "source": []
  }
 ],
 "metadata": {
  "kernelspec": {
   "display_name": "venv",
   "language": "python",
   "name": "python3"
  },
  "language_info": {
   "codemirror_mode": {
    "name": "ipython",
    "version": 3
   },
   "file_extension": ".py",
   "mimetype": "text/x-python",
   "name": "python",
   "nbconvert_exporter": "python",
   "pygments_lexer": "ipython3",
   "version": "3.13.0"
  }
 },
 "nbformat": 4,
 "nbformat_minor": 2
}
